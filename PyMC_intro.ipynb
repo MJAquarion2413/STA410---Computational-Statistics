{
  "nbformat": 4,
  "nbformat_minor": 0,
  "metadata": {
    "colab": {
      "provenance": []
    },
    "kernelspec": {
      "name": "python3",
      "display_name": "Python 3"
    },
    "language_info": {
      "name": "python"
    }
  },
  "cells": [
    {
      "cell_type": "code",
      "execution_count": null,
      "metadata": {
        "id": "eL9YNUdHc9Wh"
      },
      "outputs": [],
      "source": [
        "import arviz as az\n",
        "import matplotlib.pyplot as plt\n",
        "import numpy as np\n",
        "import pymc as pm\n",
        "import pytensor.tensor as pt"
      ]
    },
    {
      "cell_type": "code",
      "source": [
        "RANDOM_SEED = 8927\n",
        "rng = np.random.default_rng(RANDOM_SEED)\n",
        "az.style.use(\"arviz-darkgrid\")"
      ],
      "metadata": {
        "id": "CEDzqk3bdWOa"
      },
      "execution_count": null,
      "outputs": []
    },
    {
      "cell_type": "code",
      "source": [
        "with pm.Model() as model:\n",
        "    # Model definition\n",
        "    pass"
      ],
      "metadata": {
        "id": "i83Po3SgdZl8"
      },
      "execution_count": null,
      "outputs": []
    },
    {
      "cell_type": "code",
      "source": [
        "with pm.Model() as model:\n",
        "    mu = pm.Normal(\"mu\", mu=0, sigma=1)\n",
        "    obs = pm.Normal(\"obs\", mu=mu, sigma=1, observed=rng.standard_normal(100))"
      ],
      "metadata": {
        "id": "vC_zYxTadgkW"
      },
      "execution_count": null,
      "outputs": []
    },
    {
      "cell_type": "code",
      "source": [
        "model.basic_RVs"
      ],
      "metadata": {
        "id": "cPC_-W65dic-"
      },
      "execution_count": null,
      "outputs": []
    },
    {
      "cell_type": "code",
      "source": [
        "model.free_RVs"
      ],
      "metadata": {
        "id": "UMdM7Dstdksq"
      },
      "execution_count": null,
      "outputs": []
    },
    {
      "cell_type": "code",
      "source": [
        "model.observed_RVs"
      ],
      "metadata": {
        "id": "YQRLoz7_dvw0"
      },
      "execution_count": null,
      "outputs": []
    },
    {
      "cell_type": "code",
      "source": [
        "model.compile_logp()({\"mu\": 0})"
      ],
      "metadata": {
        "id": "wMKKhrCDdzx6"
      },
      "execution_count": null,
      "outputs": []
    },
    {
      "cell_type": "code",
      "source": [
        "%timeit model.compile_logp()({\"mu\": 0.1})\n",
        "logp = model.compile_logp()\n",
        "%timeit logp({\"mu\": 0.1})"
      ],
      "metadata": {
        "id": "5vSFGjrUd4R9"
      },
      "execution_count": null,
      "outputs": []
    },
    {
      "cell_type": "code",
      "source": [
        "with pm.Model():\n",
        "    x = pm.Normal(\"x\", mu=0, sigma=1)"
      ],
      "metadata": {
        "id": "-zRgqpygd7wt"
      },
      "execution_count": null,
      "outputs": []
    },
    {
      "cell_type": "code",
      "source": [
        "pm.logp(x, 0).eval()"
      ],
      "metadata": {
        "id": "W3cuhSb6d8mk"
      },
      "execution_count": null,
      "outputs": []
    },
    {
      "cell_type": "code",
      "source": [
        "with pm.Model():\n",
        "    obs = pm.Normal(\"x\", mu=0, sigma=1, observed=rng.standard_normal(100))"
      ],
      "metadata": {
        "id": "bYnYANbsd8pA"
      },
      "execution_count": null,
      "outputs": []
    },
    {
      "cell_type": "code",
      "source": [
        "with pm.Model():\n",
        "    x = pm.Normal(\"x\", mu=0, sigma=1)\n",
        "    y = pm.Gamma(\"y\", alpha=1, beta=1)\n",
        "    plus_2 = x + 2\n",
        "    summed = x + y\n",
        "    squared = x**2\n",
        "    sined = pm.math.sin(x)"
      ],
      "metadata": {
        "id": "c9c_EX4nd8rO"
      },
      "execution_count": null,
      "outputs": []
    },
    {
      "cell_type": "code",
      "source": [
        "with pm.Model():\n",
        "    x = pm.Normal(\"x\", mu=0, sigma=1)\n",
        "    plus_2 = pm.Deterministic(\"x plus 2\", x + 2)"
      ],
      "metadata": {
        "id": "M5xh7vsid8tZ"
      },
      "execution_count": null,
      "outputs": []
    },
    {
      "cell_type": "code",
      "source": [
        "with pm.Model():\n",
        "    # bad:\n",
        "    x = [pm.Normal(f\"x_{i}\", mu=0, sigma=1) for i in range(10)]"
      ],
      "metadata": {
        "id": "Jg6FpHJ7d8xN"
      },
      "execution_count": null,
      "outputs": []
    },
    {
      "cell_type": "code",
      "source": [
        "coords = {\"cities\": [\"Santiago\", \"Mumbai\", \"Tokyo\"]}\n",
        "with pm.Model(coords=coords) as model:\n",
        "    # good:\n",
        "    x = pm.Normal(\"x\", mu=0, sigma=1, dims=\"cities\")"
      ],
      "metadata": {
        "id": "hqA-S7P6d8zi"
      },
      "execution_count": null,
      "outputs": []
    },
    {
      "cell_type": "code",
      "source": [
        "with model:\n",
        "    y = x[0] * x[1]  # indexing is supported\n",
        "    x.dot(x.T)  # linear algebra is supported"
      ],
      "metadata": {
        "id": "3HEiqG-Td82G"
      },
      "execution_count": null,
      "outputs": []
    },
    {
      "cell_type": "code",
      "source": [
        "with pm.Model(coords={\"idx\": np.arange(5)}) as model:\n",
        "    x = pm.Normal(\"x\", mu=0, sigma=1, dims=\"idx\")\n",
        "\n",
        "model.initial_point()"
      ],
      "metadata": {
        "id": "uKX6Etysd84K"
      },
      "execution_count": null,
      "outputs": []
    },
    {
      "cell_type": "code",
      "source": [
        "with pm.Model(coords={\"idx\": np.arange(5)}) as model:\n",
        "    x = pm.Normal(\"x\", mu=0, sigma=1, dims=\"idx\", initval=rng.standard_normal(5))\n",
        "\n",
        "model.initial_point()"
      ],
      "metadata": {
        "id": "kXrnWMWAePhI"
      },
      "execution_count": null,
      "outputs": []
    },
    {
      "cell_type": "code",
      "source": [
        "with pm.Model() as model:\n",
        "    mu = pm.Normal(\"mu\", mu=0, sigma=1)\n",
        "    obs = pm.Normal(\"obs\", mu=mu, sigma=1, observed=rng.standard_normal(100))\n",
        "\n",
        "    idata = pm.sample(2000)"
      ],
      "metadata": {
        "id": "p6Bs9gl5ePjP"
      },
      "execution_count": null,
      "outputs": []
    },
    {
      "cell_type": "code",
      "source": [
        "idata.posterior.dims"
      ],
      "metadata": {
        "id": "cPe8BiiNePlX"
      },
      "execution_count": null,
      "outputs": []
    },
    {
      "cell_type": "code",
      "source": [
        "with pm.Model() as model:\n",
        "    mu = pm.Normal(\"mu\", mu=0, sigma=1)\n",
        "    obs = pm.Normal(\"obs\", mu=mu, sigma=1, observed=rng.standard_normal(100))\n",
        "\n",
        "    idata = pm.sample(cores=4, chains=6)"
      ],
      "metadata": {
        "id": "Q3p5DoVDd86U"
      },
      "execution_count": null,
      "outputs": []
    },
    {
      "cell_type": "code",
      "source": [
        "idata.posterior[\"mu\"].shape"
      ],
      "metadata": {
        "id": "vxeHav8peXPK"
      },
      "execution_count": null,
      "outputs": []
    },
    {
      "cell_type": "code",
      "source": [
        "# get values of a single chain\n",
        "idata.posterior[\"mu\"].sel(chain=2).shape"
      ],
      "metadata": {
        "id": "eJ6yxdZ5eXRZ"
      },
      "execution_count": null,
      "outputs": []
    },
    {
      "cell_type": "code",
      "source": [
        "with pm.Model() as model:\n",
        "    mu = pm.Normal(\"mu\", mu=0, sigma=1)\n",
        "    sd = pm.HalfNormal(\"sd\", sigma=1)\n",
        "    obs = pm.Normal(\"obs\", mu=mu, sigma=sd, observed=rng.standard_normal(100))\n",
        "\n",
        "    idata = pm.sample()"
      ],
      "metadata": {
        "id": "fVPPa2rneXTY"
      },
      "execution_count": null,
      "outputs": []
    },
    {
      "cell_type": "code",
      "source": [
        "az.plot_trace(idata);"
      ],
      "metadata": {
        "id": "f28L9Z-geXVT"
      },
      "execution_count": null,
      "outputs": []
    },
    {
      "cell_type": "code",
      "source": [
        "az.summary(idata)"
      ],
      "metadata": {
        "id": "9LPeqOSReXWp"
      },
      "execution_count": null,
      "outputs": []
    },
    {
      "cell_type": "code",
      "source": [
        "az.plot_forest(idata, r_hat=True);"
      ],
      "metadata": {
        "id": "Girf9-saeeDC"
      },
      "execution_count": null,
      "outputs": []
    },
    {
      "cell_type": "code",
      "source": [
        "az.plot_posterior(idata);"
      ],
      "metadata": {
        "id": "ifwuYxljeeFY"
      },
      "execution_count": null,
      "outputs": []
    },
    {
      "cell_type": "code",
      "source": [
        "with pm.Model(coords={\"idx\": np.arange(100)}) as model:\n",
        "    x = pm.Normal(\"x\", mu=0, sigma=1, dims=\"idx\")\n",
        "    idata = pm.sample()\n",
        "\n",
        "az.plot_energy(idata);"
      ],
      "metadata": {
        "id": "3PH0nwPbeeHH"
      },
      "execution_count": null,
      "outputs": []
    },
    {
      "cell_type": "code",
      "source": [
        "with pm.Model() as model:\n",
        "    mu = pm.Normal(\"mu\", mu=0, sigma=1)\n",
        "    sd = pm.HalfNormal(\"sd\", sigma=1)\n",
        "    obs = pm.Normal(\"obs\", mu=mu, sigma=sd, observed=rng.standard_normal(100))\n",
        "\n",
        "    approx = pm.fit()"
      ],
      "metadata": {
        "id": "Z-JcR4N6eeKo"
      },
      "execution_count": null,
      "outputs": []
    },
    {
      "cell_type": "code",
      "source": [
        "idata = approx.sample(1000)\n",
        "az.summary(idata)"
      ],
      "metadata": {
        "id": "4ysMsm7UelFD"
      },
      "execution_count": null,
      "outputs": []
    },
    {
      "cell_type": "code",
      "source": [
        "mu = pm.floatX([0.0, 0.0])\n",
        "cov = pm.floatX([[1, 0.5], [0.5, 1.0]])\n",
        "with pm.Model(coords={\"idx\": np.arange(2)}) as model:\n",
        "    pm.MvNormal(\"x\", mu=mu, cov=cov, dims=\"idx\")\n",
        "    approx = pm.fit(method=\"fullrank_advi\")"
      ],
      "metadata": {
        "id": "Tyno2C8OelHL"
      },
      "execution_count": null,
      "outputs": []
    },
    {
      "cell_type": "code",
      "source": [
        "with pm.Model(coords={\"idx\": np.arange(2)}) as model:\n",
        "    pm.MvNormal(\"x\", mu=mu, cov=cov, dims=\"idx\")\n",
        "    approx = pm.FullRankADVI().fit()"
      ],
      "metadata": {
        "id": "CIuHjqwNelJL"
      },
      "execution_count": null,
      "outputs": []
    },
    {
      "cell_type": "code",
      "source": [
        "with pm.Model(coords={\"idx\": np.arange(2)}) as model:\n",
        "    pm.MvNormal(\"x\", mu=mu, cov=cov, dims=\"idx\")\n",
        "    approx = pm.FullRankADVI().fit()"
      ],
      "metadata": {
        "id": "UCssk9ZjelLE"
      },
      "execution_count": null,
      "outputs": []
    },
    {
      "cell_type": "code",
      "source": [
        "plt.figure()\n",
        "idata = approx.sample(10000)\n",
        "az.plot_pair(idata, var_names=\"x\", coords={\"idx\": [0, 1]});"
      ],
      "metadata": {
        "id": "jaFTheTBelMv"
      },
      "execution_count": null,
      "outputs": []
    },
    {
      "cell_type": "code",
      "source": [
        "w = pm.floatX([0.2, 0.8])\n",
        "mu = pm.floatX([-0.3, 0.5])\n",
        "sd = pm.floatX([0.1, 0.1])\n",
        "with pm.Model() as model:\n",
        "    pm.NormalMixture(\"x\", w=w, mu=mu, sigma=sd)\n",
        "    approx = pm.fit(method=pm.SVGD(n_particles=200, jitter=1.0))"
      ],
      "metadata": {
        "id": "WLuY33Lde358"
      },
      "execution_count": null,
      "outputs": []
    },
    {
      "cell_type": "code",
      "source": [
        "with pm.Model() as model:\n",
        "    pm.NormalMixture(\"x\", w=[0.2, 0.8], mu=[-0.3, 0.5], sigma=[0.1, 0.1])"
      ],
      "metadata": {
        "id": "bUTG7Qcve38R"
      },
      "execution_count": null,
      "outputs": []
    },
    {
      "cell_type": "code",
      "source": [
        "plt.figure()\n",
        "idata = approx.sample(10000)\n",
        "az.plot_dist(idata.posterior[\"x\"]);"
      ],
      "metadata": {
        "id": "swDaw8tOe3-J"
      },
      "execution_count": null,
      "outputs": []
    },
    {
      "cell_type": "code",
      "source": [
        "data = rng.standard_normal(100)\n",
        "with pm.Model() as model:\n",
        "    mu = pm.Normal(\"mu\", mu=0, sigma=1)\n",
        "    sd = pm.HalfNormal(\"sd\", sigma=1)\n",
        "    obs = pm.Normal(\"obs\", mu=mu, sigma=sd, observed=data)\n",
        "\n",
        "    idata = pm.sample()"
      ],
      "metadata": {
        "id": "jLBDfs21e4AC"
      },
      "execution_count": null,
      "outputs": []
    },
    {
      "cell_type": "code",
      "source": [
        "with model:\n",
        "    idata.extend(pm.sample_posterior_predictive(idata))"
      ],
      "metadata": {
        "id": "zvjSuGh3e4CI"
      },
      "execution_count": null,
      "outputs": []
    },
    {
      "cell_type": "code",
      "source": [
        "fig, ax = plt.subplots()\n",
        "az.plot_ppc(idata, ax=ax)\n",
        "ax.axvline(data.mean(), ls=\"--\", color=\"r\", label=\"True mean\")\n",
        "ax.legend(fontsize=10);"
      ],
      "metadata": {
        "id": "mqcblFL2e4D7"
      },
      "execution_count": null,
      "outputs": []
    },
    {
      "cell_type": "code",
      "source": [
        "x = rng.standard_normal(100)\n",
        "y = x > 0\n",
        "\n",
        "coords = {\"idx\": np.arange(100)}\n",
        "with pm.Model() as model:\n",
        "    # create shared variables that can be changed later on\n",
        "    x_obs = pm.MutableData(\"x_obs\", x, dims=\"idx\")\n",
        "    y_obs = pm.MutableData(\"y_obs\", y, dims=\"idx\")\n",
        "\n",
        "    coeff = pm.Normal(\"x\", mu=0, sigma=1)\n",
        "    logistic = pm.math.sigmoid(coeff * x_obs)\n",
        "    pm.Bernoulli(\"obs\", p=logistic, observed=y_obs, dims=\"idx\")\n",
        "    idata = pm.sample()"
      ],
      "metadata": {
        "id": "rGXwlePae4Fw"
      },
      "execution_count": null,
      "outputs": []
    },
    {
      "cell_type": "code",
      "source": [
        "with model:\n",
        "    # change the value and shape of the data\n",
        "    pm.set_data(\n",
        "        {\n",
        "            \"x_obs\": [-1, 0, 1.0],\n",
        "            # use dummy values with the same shape:\n",
        "            \"y_obs\": [0, 0, 0],\n",
        "        },\n",
        "        coords={\"idx\": [1001, 1002, 1003]},\n",
        "    )\n",
        "\n",
        "    idata.extend(pm.sample_posterior_predictive(idata))"
      ],
      "metadata": {
        "id": "QT48RhJye4H6"
      },
      "execution_count": null,
      "outputs": []
    },
    {
      "cell_type": "code",
      "source": [
        "idata.posterior_predictive[\"obs\"].mean(dim=[\"draw\", \"chain\"])"
      ],
      "metadata": {
        "id": "NAL433q-fEFN"
      },
      "execution_count": null,
      "outputs": []
    }
  ]
}